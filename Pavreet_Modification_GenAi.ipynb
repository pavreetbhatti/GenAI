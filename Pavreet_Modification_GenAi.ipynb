{
  "nbformat": 4,
  "nbformat_minor": 0,
  "metadata": {
    "colab": {
      "provenance": [],
      "include_colab_link": true
    },
    "kernelspec": {
      "name": "python3",
      "display_name": "Python 3"
    },
    "language_info": {
      "name": "python"
    }
  },
  "cells": [
    {
      "cell_type": "markdown",
      "metadata": {
        "id": "view-in-github",
        "colab_type": "text"
      },
      "source": [
        "<a href=\"https://colab.research.google.com/github/pavreetbhatti/GenAI/blob/main/Pavreet_Modification_GenAi.ipynb\" target=\"_parent\"><img src=\"https://colab.research.google.com/assets/colab-badge.svg\" alt=\"Open In Colab\"/></a>"
      ]
    },
    {
      "cell_type": "markdown",
      "source": [
        "# Title : Generating AI Content with the Replicates API"
      ],
      "metadata": {
        "id": "a8oeaNTHnTAd"
      }
    },
    {
      "cell_type": "markdown",
      "source": [
        "#Project Scope\n",
        "\n",
        "The main objective of the inquiry is to evaluate the capabilities of the Replicate platform as an artificial intelligence-driven content creator. Through the use of pre-trained models, we will produce images and movies in order to demonstrate the extensive variety of creative opportunities that are made available by Replicate.\n",
        "\n",
        "\n",
        "\n",
        "\n",
        "\n"
      ],
      "metadata": {
        "id": "7fTg6bjlnehw"
      }
    },
    {
      "cell_type": "markdown",
      "source": [
        "# Group Members\n",
        "\n",
        "> Pavreet Singh Bhatti - 4342708"
      ],
      "metadata": {
        "id": "wmCL6QcqO_t9"
      }
    },
    {
      "cell_type": "markdown",
      "source": [
        "# Brief Project Description\n",
        "\n",
        "As we go into this inquiry, we will thoroughly examine the features provided by the Replicate platform. We will find out how different pictures and videos are made by using a broad array of Replicate models. Discovering the potential areas of application, assessing the quality of the supplied information, and comprehending the model's capabilities are all part of the aims.\n",
        "\n",
        "\n",
        "\n",
        "\n",
        "\n",
        "\n"
      ],
      "metadata": {
        "id": "YriYl2mYogaI"
      }
    },
    {
      "cell_type": "markdown",
      "source": [
        "### Project Objective\n",
        "\n",
        "This project uses Gen AI's Replicate API to enhance the platform. Complex algorithms, models, and data structures may be replicated. We want to simplify AI model and data replication for knowledge transfer and scalability across applications.\n",
        "\n",
        "\n",
        "\n",
        "\n"
      ],
      "metadata": {
        "id": "elcPLIXbpqvc"
      }
    },
    {
      "cell_type": "markdown",
      "source": [
        "### Project Outcome"
      ],
      "metadata": {
        "id": "VbFJWVVzqBH4"
      }
    },
    {
      "cell_type": "markdown",
      "source": [
        "* The Replicate API from Gen AI will make replicating AI models and datasets faster and better. We can do this by making duplication easier and cutting down on human work.\n",
        "\n",
        "* Gen AI users should be able to easily replicate sophisticated data structures and AI models so that they may be used in many domains and applications.\n",
        "\n",
        "* Gen AI will be able to simplify its user interface, speed up innovation, reduce development delays, and reach more people with the help of the Replicate API.\n",
        "\n",
        "\n",
        "\n",
        "\n",
        "\n",
        "\n",
        "\n",
        "\n",
        "\n",
        "\n",
        "\n"
      ],
      "metadata": {
        "id": "j4zJpzyBqD-p"
      }
    },
    {
      "cell_type": "markdown",
      "source": [
        "### Modification/New Specification\n",
        "\n",
        "* To begin, type in your Replicate API key. This is the first step in the API registration process. If you want to use the Replicate API's features and prove who you are, you need this key.\n",
        "\n",
        "* Write questions that say what kind of writing they should lead to. To make pictures, you can use phrases like \"A peaceful landscape with mountains and a lake.\" To make movies, you can use phrases like \"A sunrise over a calm ocean\" and \"The sun setting behind a city skyline.\"\n",
        "\n",
        "* You can use the Replicate API's services to make visual material like photos, movies, and GIFs in reaction to these instructions. These directions tell the application programming interface (API) how to make content that either fits or knows the exact requirements that were given.\n",
        "\n",
        "* Using the right display options, you can see the photos, movies, and GIFs you've made right in Google Colab. This means that the content that is made can be seen right away.\n",
        "\n",
        "* These video assets may be changed, used for research, or added to other projects based on the specific needs and goals of each one.\n",
        "\n",
        "\n",
        "\n"
      ],
      "metadata": {
        "id": "jv5keaSRqgpK"
      }
    },
    {
      "cell_type": "markdown",
      "source": [
        "## Criteria Specific Cell\n",
        "* Advancements in algorithmic techniques\n",
        "Potentially new techniques that expedite and improve the process of training AI models will be available via the Replicate API. The model's convergence time would be reduced while maintaining or even enhancing its accuracy.\n",
        "\n",
        "* Increased productivity\n",
        " The merger opens the door to new approaches that are more efficient with existing resources. By using less computer resources, users will be able to create high-quality visual material. The data will be accessible to a much wider audience in this manner.\n",
        "\n",
        "* Original and imaginative proposals\n",
        "  Users may use its capabilities to generate creative material using the application programming interface (API). For instance, it is possible to transform textual instructions into visually attractive information. Make graphics, create storyboards, or prototypes for your concepts using this.\n",
        "\n",
        "\n",
        "\n",
        "\n"
      ],
      "metadata": {
        "id": "MShi7xnVBoKh"
      }
    },
    {
      "cell_type": "markdown",
      "source": [
        "## 1. As part of this process, replicate will be installed on the Google Colab notebook account that we have.\n"
      ],
      "metadata": {
        "id": "KscP6qEZsYIM"
      }
    },
    {
      "cell_type": "code",
      "execution_count": null,
      "metadata": {
        "colab": {
          "base_uri": "https://localhost:8080/"
        },
        "id": "sH6k2w4z7-Hw",
        "outputId": "77af8e08-dcca-4714-8f9f-4dd94d389537"
      },
      "outputs": [
        {
          "output_type": "stream",
          "name": "stdout",
          "text": [
            "Collecting replicate\n",
            "  Downloading replicate-0.21.1-py3-none-any.whl (35 kB)\n",
            "Collecting httpx<1,>=0.21.0 (from replicate)\n",
            "  Downloading httpx-0.25.2-py3-none-any.whl (74 kB)\n",
            "\u001b[2K     \u001b[90m━━━━━━━━━━━━━━━━━━━━━━━━━━━━━━━━━━━━━━━━\u001b[0m \u001b[32m75.0/75.0 kB\u001b[0m \u001b[31m3.3 MB/s\u001b[0m eta \u001b[36m0:00:00\u001b[0m\n",
            "\u001b[?25hRequirement already satisfied: packaging in /usr/local/lib/python3.10/dist-packages (from replicate) (23.2)\n",
            "Requirement already satisfied: pydantic>1 in /usr/local/lib/python3.10/dist-packages (from replicate) (1.10.13)\n",
            "Requirement already satisfied: typing-extensions>=4.5.0 in /usr/local/lib/python3.10/dist-packages (from replicate) (4.5.0)\n",
            "Requirement already satisfied: anyio in /usr/local/lib/python3.10/dist-packages (from httpx<1,>=0.21.0->replicate) (3.7.1)\n",
            "Requirement already satisfied: certifi in /usr/local/lib/python3.10/dist-packages (from httpx<1,>=0.21.0->replicate) (2023.11.17)\n",
            "Collecting httpcore==1.* (from httpx<1,>=0.21.0->replicate)\n",
            "  Downloading httpcore-1.0.2-py3-none-any.whl (76 kB)\n",
            "\u001b[2K     \u001b[90m━━━━━━━━━━━━━━━━━━━━━━━━━━━━━━━━━━━━━━━━\u001b[0m \u001b[32m76.9/76.9 kB\u001b[0m \u001b[31m8.5 MB/s\u001b[0m eta \u001b[36m0:00:00\u001b[0m\n",
            "\u001b[?25hRequirement already satisfied: idna in /usr/local/lib/python3.10/dist-packages (from httpx<1,>=0.21.0->replicate) (3.6)\n",
            "Requirement already satisfied: sniffio in /usr/local/lib/python3.10/dist-packages (from httpx<1,>=0.21.0->replicate) (1.3.0)\n",
            "Collecting h11<0.15,>=0.13 (from httpcore==1.*->httpx<1,>=0.21.0->replicate)\n",
            "  Downloading h11-0.14.0-py3-none-any.whl (58 kB)\n",
            "\u001b[2K     \u001b[90m━━━━━━━━━━━━━━━━━━━━━━━━━━━━━━━━━━━━━━━━\u001b[0m \u001b[32m58.3/58.3 kB\u001b[0m \u001b[31m6.5 MB/s\u001b[0m eta \u001b[36m0:00:00\u001b[0m\n",
            "\u001b[?25hRequirement already satisfied: exceptiongroup in /usr/local/lib/python3.10/dist-packages (from anyio->httpx<1,>=0.21.0->replicate) (1.2.0)\n",
            "Installing collected packages: h11, httpcore, httpx, replicate\n",
            "Successfully installed h11-0.14.0 httpcore-1.0.2 httpx-0.25.2 replicate-0.21.1\n"
          ]
        }
      ],
      "source": [
        "# @title Install Replicate\n",
        "!pip install replicate\n"
      ]
    },
    {
      "cell_type": "markdown",
      "source": [
        "## 2. During this step, we are exporting our application programming interface (API) in the Google Colab Notebook, which is utilized for the production of images, videos, and GIFs.\n",
        "\n"
      ],
      "metadata": {
        "id": "ppIJUwD6skRB"
      }
    },
    {
      "cell_type": "code",
      "source": [
        "API = \"r8_dkXL28mLh3gwrbDqBiG4hGwYcD09Lmy3njNdl\"\n",
        "import os\n",
        "\n",
        "os.environ[\"REPLICATE_API_TOKEN\"] = API #find it here: https://replicate.com/signin?next=/account/api-tokens"
      ],
      "metadata": {
        "id": "FYCtnQZDlqZZ"
      },
      "execution_count": null,
      "outputs": []
    },
    {
      "cell_type": "markdown",
      "source": [
        "## 3) A picture will be created in our Google Colab notebook as the third phase in this process.\n"
      ],
      "metadata": {
        "id": "ghvyYSHYs1KT"
      }
    },
    {
      "cell_type": "code",
      "source": [
        "# @title Generate Image\n",
        "prompt = \"laptop screen\"\n",
        "import replicate\n",
        "\n",
        "output = replicate.run(\n",
        "  \"stability-ai/stable-diffusion:27b93a2413e7f36cd83da926f3656280b2931564ff050bf9575f1fdf9bcd7478\",\n",
        "  input={\"prompt\":prompt}\n",
        ")\n",
        "\n",
        "output"
      ],
      "metadata": {
        "id": "HoEceNpTlzjE",
        "outputId": "7273fe3c-66b6-4c81-a79d-017f423e345a",
        "colab": {
          "base_uri": "https://localhost:8080/"
        }
      },
      "execution_count": null,
      "outputs": [
        {
          "output_type": "execute_result",
          "data": {
            "text/plain": [
              "['https://replicate.delivery/pbxt/XmvzrafusOyICauWErTkQM0pJV9fTSws5rEC2Dviec4Fe47HB/out-0.png']"
            ]
          },
          "metadata": {},
          "execution_count": 4
        }
      ]
    },
    {
      "cell_type": "markdown",
      "source": [
        "## 4) At this point, we will show the picture that we created on Google Colab Notebook.\n",
        "\n"
      ],
      "metadata": {
        "id": "CrfFJWoQtFQa"
      }
    },
    {
      "cell_type": "code",
      "source": [
        "\n",
        "from IPython.display import Image\n",
        "output_image = output\n",
        "Image(url=output_image[0])"
      ],
      "metadata": {
        "id": "eUZbVWswl7OC",
        "outputId": "a36a8f49-cc8d-406c-89c9-c53ad3c627d0",
        "colab": {
          "base_uri": "https://localhost:8080/",
          "height": 533
        }
      },
      "execution_count": null,
      "outputs": [
        {
          "output_type": "execute_result",
          "data": {
            "text/html": [
              "<img src=\"https://replicate.delivery/pbxt/XmvzrafusOyICauWErTkQM0pJV9fTSws5rEC2Dviec4Fe47HB/out-0.png\"/>"
            ],
            "text/plain": [
              "<IPython.core.display.Image object>"
            ]
          },
          "metadata": {},
          "execution_count": 5
        }
      ]
    },
    {
      "cell_type": "markdown",
      "source": [
        "## 5) In this step, we will utilize the prompt command in Google Colab Notebook to generate a video, gif, or animation.\n",
        "\n",
        "\n"
      ],
      "metadata": {
        "id": "Uieqe7AYtTSN"
      }
    },
    {
      "cell_type": "code",
      "source": [
        "# @title Video/gif/animation/Generation\n",
        "import replicate\n",
        "\n",
        "output = replicate.run(\n",
        "    \"andreasjansson/stable-diffusion-animation:ca1f5e306e5721e19c473e0d094e6603f0456fe759c10715fcd6c1b79242d4a5\",\n",
        "    input={\n",
        "        \"prompt_start\": \"Laptop Start Blinking\",\n",
        "        \"prompt_end\": \"Laptop ShutDown\",\n",
        "        \"output_format\": \"gif\",\n",
        "        \"gif_ping_pong\": True\n",
        "    }\n",
        ")\n",
        "\n",
        "output\n"
      ],
      "metadata": {
        "id": "6e9xdZavl-h1",
        "outputId": "abc6d0fb-993d-4ca4-8a70-d7f040641910",
        "colab": {
          "base_uri": "https://localhost:8080/"
        }
      },
      "execution_count": null,
      "outputs": [
        {
          "output_type": "execute_result",
          "data": {
            "text/plain": [
              "<generator object Prediction.output_iterator at 0x7d7182a44d60>"
            ]
          },
          "metadata": {},
          "execution_count": 6
        }
      ]
    },
    {
      "cell_type": "markdown",
      "source": [
        "## 6) The next stage in the process is to make a video in Google Colab.\n",
        "\n"
      ],
      "metadata": {
        "id": "eaVUkcx3tnUg"
      }
    },
    {
      "cell_type": "code",
      "source": [
        "# @title generate video\n",
        "for item in output:\n",
        "     #https://replicate.com/andreasjansson/stable-diffusion-animation/versions/ca1f5e306e5721e19c473e0d094e6603f0456fe759c10715fcd6c1b79242d4a5/api#output-schema\n",
        "    print(item)"
      ],
      "metadata": {
        "id": "RAGe2-zRmMKP",
        "outputId": "0f635afe-f721-4c59-a233-30f5f9332162",
        "colab": {
          "base_uri": "https://localhost:8080/"
        }
      },
      "execution_count": null,
      "outputs": [
        {
          "output_type": "stream",
          "name": "stdout",
          "text": [
            "https://replicate.delivery/pbxt/ynsF1kfjGxUCDC5mftkfsDeV1Gh78bYuznJuHqlnGBTTX57HB/video.gif\n"
          ]
        }
      ]
    },
    {
      "cell_type": "markdown",
      "source": [
        "## 7) At this step, you must acquire the Video/GIFs from Google Colab.\n",
        "\n"
      ],
      "metadata": {
        "id": "OZATf-fpz0s2"
      }
    },
    {
      "cell_type": "code",
      "source": [
        "# @title get the video on colab\n",
        "gif_url= item[0:len(item)]"
      ],
      "metadata": {
        "id": "EgeEX5q2mO5c"
      },
      "execution_count": null,
      "outputs": []
    },
    {
      "cell_type": "markdown",
      "source": [
        "## 8) At this point, the video will be presented on the Google Colab.\n",
        "\n"
      ],
      "metadata": {
        "id": "NowA6oRDz75A"
      }
    },
    {
      "cell_type": "code",
      "source": [
        "# @title Show the video\n",
        "import requests\n",
        "from IPython.display import display, Image\n",
        "from PIL import Image as PILImage\n",
        "from io import BytesIO\n",
        "response = requests.get(gif_url)\n",
        "if response.status_code == 200:\n",
        "    # Display the GIF in the notebook\n",
        "    display(Image(url=gif_url))\n",
        "\n",
        "    # Save the GIF in the Colab environment\n",
        "    with open(\"gif_output.gif\", \"wb\") as f:\n",
        "        f.write(response.content)\n",
        "\n",
        "    # Show a saved GIF using PIL\n",
        "    saved_gif = PILImage.open(\"gif_output.gif\")\n",
        "    saved_gif.show()\n",
        "else:\n",
        "    print(\"Failed to fetch GIF\")\n"
      ],
      "metadata": {
        "id": "6DHW7LtFmXzG",
        "outputId": "56fde272-58ed-4a9d-a286-407838393065",
        "colab": {
          "base_uri": "https://localhost:8080/",
          "height": 533
        }
      },
      "execution_count": null,
      "outputs": [
        {
          "output_type": "display_data",
          "data": {
            "text/html": [
              "<img src=\"https://replicate.delivery/pbxt/ynsF1kfjGxUCDC5mftkfsDeV1Gh78bYuznJuHqlnGBTTX57HB/video.gif\"/>"
            ],
            "text/plain": [
              "<IPython.core.display.Image object>"
            ]
          },
          "metadata": {}
        }
      ]
    },
    {
      "cell_type": "markdown",
      "source": [
        "# Reference\n",
        "\n",
        "* andreasjansson/stable-diffusion-animation – Replicate. (n.d.). https://replicate.com/andreasjansson/stable-diffusion-animation/api?tab=nodejs\n",
        "\n",
        "* Sign in – Replicate.  https://replicate.com/account/api-tokens\n",
        "* Google Colab. (n.d.). Colab.google. colab.google. https://colab.google/"
      ],
      "metadata": {
        "id": "9hx-49sf0ECp"
      }
    },
    {
      "cell_type": "markdown",
      "source": [
        "# Video Link\n"
      ],
      "metadata": {
        "id": "gAieFQhW0YAO"
      }
    },
    {
      "cell_type": "markdown",
      "source": [
        "\n",
        "Thankyou\n",
        "\n"
      ],
      "metadata": {
        "id": "CJwKjZec0aCp"
      }
    }
  ]
}